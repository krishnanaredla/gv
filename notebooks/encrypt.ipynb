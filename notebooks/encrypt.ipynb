{
 "cells": [
  {
   "cell_type": "code",
   "execution_count": 75,
   "metadata": {},
   "outputs": [],
   "source": [
    "from cryptography.fernet import Fernet\n",
    "key = Fernet.generate_key() #this is your \"password\"\n",
    "cipher_suite = Fernet(key)\n",
    "encoded_text = cipher_suite.encrypt(\"Hello stackoverflow!\".encode())\n",
    "decoded_text = cipher_suite.decrypt(encoded_text)"
   ]
  },
  {
   "cell_type": "code",
   "execution_count": 112,
   "metadata": {},
   "outputs": [
    {
     "data": {
      "text/plain": [
       "'Hello stackoverflow!'"
      ]
     },
     "execution_count": 112,
     "metadata": {},
     "output_type": "execute_result"
    }
   ],
   "source": [
    " cipher_suite.decrypt(encoded_text.decode().encode()).decode()"
   ]
  },
  {
   "cell_type": "code",
   "execution_count": 78,
   "metadata": {},
   "outputs": [
    {
     "data": {
      "text/plain": [
       "44"
      ]
     },
     "execution_count": 78,
     "metadata": {},
     "output_type": "execute_result"
    }
   ],
   "source": [
    "file = open('key.key','wb')\n",
    "file.write(key)"
   ]
  },
  {
   "cell_type": "code",
   "execution_count": 81,
   "metadata": {},
   "outputs": [
    {
     "data": {
      "text/plain": [
       "<cryptography.fernet.Fernet at 0x18d2fb28fd0>"
      ]
     },
     "execution_count": 81,
     "metadata": {},
     "output_type": "execute_result"
    }
   ],
   "source": [
    "file   = open('key.key','rb')\n",
    "key = file.read()\n",
    "Fernet(key)"
   ]
  },
  {
   "cell_type": "code",
   "execution_count": 6,
   "metadata": {},
   "outputs": [
    {
     "data": {
      "text/plain": [
       "b'gAAAAABfo0YAcFwTSj_FlX0Tm7Z8rfQCoTPrz_Zew_gi_49lgHoHEZyYuNFYheA3K4h2L6S1EHp2VVPeffRXjVImDXImRyDfpzwb6Azxnsv8PCOESIDMPgk='"
      ]
     },
     "execution_count": 6,
     "metadata": {},
     "output_type": "execute_result"
    }
   ],
   "source": [
    "encoded_text"
   ]
  },
  {
   "cell_type": "code",
   "execution_count": 8,
   "metadata": {},
   "outputs": [
    {
     "data": {
      "text/plain": [
       "'Hello stackoverflow!'"
      ]
     },
     "execution_count": 8,
     "metadata": {},
     "output_type": "execute_result"
    }
   ],
   "source": [
    "decoded_text.decode()"
   ]
  },
  {
   "cell_type": "code",
   "execution_count": 61,
   "metadata": {},
   "outputs": [
    {
     "data": {
      "text/plain": [
       "cryptography.fernet.Fernet"
      ]
     },
     "execution_count": 61,
     "metadata": {},
     "output_type": "execute_result"
    }
   ],
   "source": [
    "type(cipher_suite)"
   ]
  },
  {
   "cell_type": "code",
   "execution_count": 50,
   "metadata": {},
   "outputs": [],
   "source": [
    "from cryptography.fernet import Fernet\n",
    "import json\n",
    "import os\n",
    "from typing import Dict\n",
    "from pathlib import Path\n",
    "\n",
    "class cryption:\n",
    "    def __init__(self,encryptPath:str=\"./data/encrypt.key\"):\n",
    "        _keyPath  = Path(encryptPath)\n",
    "        if _keyPath.is_file():\n",
    "            file   = open(encryptPath,'rb')\n",
    "            self.key    = file.read()\n",
    "            file.close()\n",
    "        else:\n",
    "            self.key    = Fernet.generate_key()\n",
    "            file = open(encryptPath,'wb')\n",
    "            file.write(self.key)\n",
    "            file.close()\n",
    "    def encrpytJsonFile(self,file)->None:\n",
    "        with open(file) as f:\n",
    "            data = json.load(f)\n",
    "        for key,value in zip(data.keys(),data.values()):\n",
    "            data[key] = Fernet(self.key).encrypt(str(value).encode()).decode()\n",
    "        with open(file, 'w') as outfile:\n",
    "            json.dump(data, outfile)\n",
    "        print(\"Encrypted data written successfully\")\n",
    "        return None\n",
    "    def decryptJsonFile(self,file)-> Dict:\n",
    "        with open(file) as f:\n",
    "            data = json.load(f)\n",
    "        for key,value in zip(data.keys(),data.values()):\n",
    "            data[key] = Fernet(self.key).decrypt(value.encode()).decode()\n",
    "        return data\n",
    "        \n",
    "        "
   ]
  },
  {
   "cell_type": "code",
   "execution_count": 61,
   "metadata": {},
   "outputs": [
    {
     "name": "stdout",
     "output_type": "stream",
     "text": [
      "[['spam', 'eggs', 'lumberjack', 'knights', 'ni'],\n",
      " 'spam',\n",
      " 'eggs',\n",
      " 'lumberjack',\n",
      " 'knights',\n",
      " 'ni']\n"
     ]
    }
   ],
   "source": [
    "import pprint\n",
    "stuff = ['spam', 'eggs', 'lumberjack', 'knights', 'ni']\n",
    "stuff.insert(0, stuff[:])\n",
    "pp = pprint.PrettyPrinter(indent=1)\n",
    "pp.pprint(stuff)"
   ]
  },
  {
   "cell_type": "code",
   "execution_count": 59,
   "metadata": {},
   "outputs": [],
   "source": [
    "data = cryption()"
   ]
  },
  {
   "cell_type": "code",
   "execution_count": 52,
   "metadata": {},
   "outputs": [
    {
     "name": "stdout",
     "output_type": "stream",
     "text": [
      "Encrypted data written successfully\n"
     ]
    }
   ],
   "source": [
    "data.encrpytJsonFile('./data/sample.json')"
   ]
  },
  {
   "cell_type": "code",
   "execution_count": 66,
   "metadata": {},
   "outputs": [
    {
     "name": "stdout",
     "output_type": "stream",
     "text": [
      "(\"{'age': 'gAAAAABfo27p...RMVr3bmalWQ==', 'car': \"\n",
      " \"'gAAAAABfo27p...ky9B1cKhSgQ==', 'name': 'gAAAAABfo27p...ZZqelDO5cNQ=='}\")\n"
     ]
    }
   ],
   "source": [
    "# Encrypted data\n",
    "with open('./data/sample.json') as f:\n",
    "    dt = json.load(f)\n",
    "pp.pprint(reprlib.repr(dt))"
   ]
  },
  {
   "cell_type": "code",
   "execution_count": 60,
   "metadata": {},
   "outputs": [
    {
     "data": {
      "text/plain": [
       "{'name': 'John', 'age': '30', 'car': 'jaguar'}"
      ]
     },
     "execution_count": 60,
     "metadata": {},
     "output_type": "execute_result"
    }
   ],
   "source": [
    "# Same file will be decrypted\n",
    "data.decryptJsonFile('./data/sample.json')"
   ]
  },
  {
   "cell_type": "code",
   "execution_count": 23,
   "metadata": {},
   "outputs": [
    {
     "name": "stdout",
     "output_type": "stream",
     "text": [
      "loading Key\n",
      "b'A5n-CTI_pl4SgHwwfp78rzERfJpZ-c5zijbPvnSvL6A='\n"
     ]
    },
    {
     "data": {
      "text/plain": [
       "<__main__.cryption at 0x12f1ac22820>"
      ]
     },
     "execution_count": 23,
     "metadata": {},
     "output_type": "execute_result"
    }
   ],
   "source": [
    "cryption()"
   ]
  },
  {
   "cell_type": "code",
   "execution_count": 18,
   "metadata": {},
   "outputs": [],
   "source": [
    "data = cryption()"
   ]
  },
  {
   "cell_type": "code",
   "execution_count": 118,
   "metadata": {},
   "outputs": [],
   "source": [
    "data.encrpytJsonFile('./data/sample.json')"
   ]
  },
  {
   "cell_type": "code",
   "execution_count": 13,
   "metadata": {},
   "outputs": [],
   "source": [
    "import json\n",
    "\n",
    "with open('sample.json') as f:\n",
    "    data = json.load(f)"
   ]
  },
  {
   "cell_type": "code",
   "execution_count": 20,
   "metadata": {},
   "outputs": [],
   "source": [
    "for x,y in zip(data.keys(),data.values()):\n",
    "    data[x] = cipher_suite.encrypt(str(y).encode())"
   ]
  },
  {
   "cell_type": "code",
   "execution_count": 45,
   "metadata": {},
   "outputs": [],
   "source": [
    "from pathlib import Path\n",
    "\n",
    "my_file = Path(\"/data/en.key\")"
   ]
  },
  {
   "cell_type": "code",
   "execution_count": 46,
   "metadata": {},
   "outputs": [],
   "source": [
    "if my_file.is_file():\n",
    "    print(1)"
   ]
  },
  {
   "cell_type": "code",
   "execution_count": 43,
   "metadata": {},
   "outputs": [
    {
     "data": {
      "text/plain": [
       "'.'"
      ]
     },
     "execution_count": 43,
     "metadata": {},
     "output_type": "execute_result"
    }
   ],
   "source": [
    "ROOT_DIR"
   ]
  },
  {
   "cell_type": "code",
   "execution_count": 63,
   "metadata": {},
   "outputs": [
    {
     "name": "stdout",
     "output_type": "stream",
     "text": [
      "[[1, 2, 3], [0, 1, 2, 3, 4, 5, ...]]\n"
     ]
    }
   ],
   "source": [
    "import reprlib\n",
    "\n",
    "obj = [[1, 2, 3], list(range(10000))]\n",
    "\n",
    "print(reprlib.repr(obj))\n"
   ]
  },
  {
   "cell_type": "code",
   "execution_count": 65,
   "metadata": {},
   "outputs": [
    {
     "name": "stdout",
     "output_type": "stream",
     "text": [
      "(\"{'age': 'gAAAAABfo27p...RMVr3bmalWQ==', 'car': \"\n",
      " \"'gAAAAABfo27p...ky9B1cKhSgQ==', 'name': 'gAAAAABfo27p...ZZqelDO5cNQ=='}\")\n"
     ]
    }
   ],
   "source": [
    "with open('./data/sample.json') as f:\n",
    "    dt = json.load(f)\n",
    "pp.pprint(reprlib.repr(dt))"
   ]
  },
  {
   "cell_type": "code",
   "execution_count": null,
   "metadata": {},
   "outputs": [],
   "source": []
  }
 ],
 "metadata": {
  "kernelspec": {
   "display_name": "Python 3",
   "language": "python",
   "name": "python3"
  },
  "language_info": {
   "codemirror_mode": {
    "name": "ipython",
    "version": 3
   },
   "file_extension": ".py",
   "mimetype": "text/x-python",
   "name": "python",
   "nbconvert_exporter": "python",
   "pygments_lexer": "ipython3",
   "version": "3.8.3"
  }
 },
 "nbformat": 4,
 "nbformat_minor": 4
}
